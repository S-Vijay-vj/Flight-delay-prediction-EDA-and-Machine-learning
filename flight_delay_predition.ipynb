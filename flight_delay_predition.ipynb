{
 "cells": [
  {
   "attachments": {},
   "cell_type": "markdown",
   "metadata": {},
   "source": [
    "# Flight delay prediction EDA and Machine learning\n",
    "This project aims to predict flight delays for flights from Washington, DC to New York City using\n",
    "machine learning. The project uses a dataset of flight records from\n",
    "January 2004. \n",
    "\n",
    "### Variable Dictionary\n",
    "1) *Origin -*\n",
    "   - DCA - Reagan National \n",
    "   - IAD - Dulles\n",
    "   - BWI - Baltimore–Washington Int’l\n",
    "\n",
    "2) *Destination -*\n",
    "   -  JFK - Kennedy\n",
    "   -  LGA - LaGuardia\n",
    "   -  EWR - Newark\n",
    "\n",
    "3) *Carrier -*\n",
    "   -  CO - Continental\n",
    "   -  DH - Atlantic Coast\n",
    "   -  DL - Delta\n",
    "   -  MQ - American Eagle\n",
    "   -  OH - Comair\n",
    "   -  RU - Continental Express\n",
    "   -  UA - United\n",
    "   -  US - USAirways\n",
    "\n",
    "\n",
    "\n",
    "---\n"
   ]
  },
  {
   "attachments": {},
   "cell_type": "markdown",
   "metadata": {},
   "source": [
    "#### Importing necessary libraries"
   ]
  },
  {
   "cell_type": "code",
   "execution_count": 1,
   "metadata": {},
   "outputs": [],
   "source": [
    "import pandas as pd\n",
    "import altair as alt\n",
    "from sklearn.naive_bayes import GaussianNB\n",
    "import matplotlib.pyplot as plt\n",
    "import seaborn as sns"
   ]
  },
  {
   "attachments": {},
   "cell_type": "markdown",
   "metadata": {},
   "source": [
    "#### Importing data"
   ]
  },
  {
   "cell_type": "code",
   "execution_count": 2,
   "metadata": {},
   "outputs": [],
   "source": [
    "df=pd.read_excel('D:\\python\\Cfa maths and stats\\\\assignment 1a\\Flight Data.xlsx',parse_dates=['Date'])"
   ]
  },
  {
   "cell_type": "code",
   "execution_count": 3,
   "metadata": {},
   "outputs": [
    {
     "data": {
      "text/html": [
       "<div>\n",
       "<style scoped>\n",
       "    .dataframe tbody tr th:only-of-type {\n",
       "        vertical-align: middle;\n",
       "    }\n",
       "\n",
       "    .dataframe tbody tr th {\n",
       "        vertical-align: top;\n",
       "    }\n",
       "\n",
       "    .dataframe thead th {\n",
       "        text-align: right;\n",
       "    }\n",
       "</style>\n",
       "<table border=\"1\" class=\"dataframe\">\n",
       "  <thead>\n",
       "    <tr style=\"text-align: right;\">\n",
       "      <th></th>\n",
       "      <th>Carrier</th>\n",
       "      <th>Departure Time</th>\n",
       "      <th>Destination</th>\n",
       "      <th>Distance</th>\n",
       "      <th>Date</th>\n",
       "      <th>Flight Number</th>\n",
       "      <th>Origin</th>\n",
       "      <th>Day of the Week</th>\n",
       "      <th>Day of the Month</th>\n",
       "      <th>Delayed</th>\n",
       "    </tr>\n",
       "  </thead>\n",
       "  <tbody>\n",
       "    <tr>\n",
       "      <th>0</th>\n",
       "      <td>OH</td>\n",
       "      <td>1455</td>\n",
       "      <td>JFK</td>\n",
       "      <td>184</td>\n",
       "      <td>2004-01-01</td>\n",
       "      <td>5935</td>\n",
       "      <td>BWI</td>\n",
       "      <td>4</td>\n",
       "      <td>1</td>\n",
       "      <td>ontime</td>\n",
       "    </tr>\n",
       "    <tr>\n",
       "      <th>1</th>\n",
       "      <td>DH</td>\n",
       "      <td>1640</td>\n",
       "      <td>JFK</td>\n",
       "      <td>213</td>\n",
       "      <td>2004-01-01</td>\n",
       "      <td>6155</td>\n",
       "      <td>DCA</td>\n",
       "      <td>4</td>\n",
       "      <td>1</td>\n",
       "      <td>ontime</td>\n",
       "    </tr>\n",
       "    <tr>\n",
       "      <th>2</th>\n",
       "      <td>DH</td>\n",
       "      <td>1245</td>\n",
       "      <td>LGA</td>\n",
       "      <td>229</td>\n",
       "      <td>2004-01-01</td>\n",
       "      <td>7208</td>\n",
       "      <td>IAD</td>\n",
       "      <td>4</td>\n",
       "      <td>1</td>\n",
       "      <td>ontime</td>\n",
       "    </tr>\n",
       "    <tr>\n",
       "      <th>3</th>\n",
       "      <td>DH</td>\n",
       "      <td>1709</td>\n",
       "      <td>LGA</td>\n",
       "      <td>229</td>\n",
       "      <td>2004-01-01</td>\n",
       "      <td>7215</td>\n",
       "      <td>IAD</td>\n",
       "      <td>4</td>\n",
       "      <td>1</td>\n",
       "      <td>ontime</td>\n",
       "    </tr>\n",
       "    <tr>\n",
       "      <th>4</th>\n",
       "      <td>DH</td>\n",
       "      <td>1035</td>\n",
       "      <td>LGA</td>\n",
       "      <td>229</td>\n",
       "      <td>2004-01-01</td>\n",
       "      <td>7792</td>\n",
       "      <td>IAD</td>\n",
       "      <td>4</td>\n",
       "      <td>1</td>\n",
       "      <td>ontime</td>\n",
       "    </tr>\n",
       "  </tbody>\n",
       "</table>\n",
       "</div>"
      ],
      "text/plain": [
       "  Carrier  Departure Time Destination  Distance       Date  Flight Number  \\\n",
       "0      OH            1455         JFK       184 2004-01-01           5935   \n",
       "1      DH            1640         JFK       213 2004-01-01           6155   \n",
       "2      DH            1245         LGA       229 2004-01-01           7208   \n",
       "3      DH            1709         LGA       229 2004-01-01           7215   \n",
       "4      DH            1035         LGA       229 2004-01-01           7792   \n",
       "\n",
       "  Origin  Day of the Week  Day of the Month Delayed   \n",
       "0    BWI                4                 1   ontime  \n",
       "1    DCA                4                 1   ontime  \n",
       "2    IAD                4                 1   ontime  \n",
       "3    IAD                4                 1   ontime  \n",
       "4    IAD                4                 1   ontime  "
      ]
     },
     "execution_count": 3,
     "metadata": {},
     "output_type": "execute_result"
    }
   ],
   "source": [
    "df.head()"
   ]
  },
  {
   "cell_type": "code",
   "execution_count": 4,
   "metadata": {},
   "outputs": [
    {
     "data": {
      "text/html": [
       "<div>\n",
       "<style scoped>\n",
       "    .dataframe tbody tr th:only-of-type {\n",
       "        vertical-align: middle;\n",
       "    }\n",
       "\n",
       "    .dataframe tbody tr th {\n",
       "        vertical-align: top;\n",
       "    }\n",
       "\n",
       "    .dataframe thead th {\n",
       "        text-align: right;\n",
       "    }\n",
       "</style>\n",
       "<table border=\"1\" class=\"dataframe\">\n",
       "  <thead>\n",
       "    <tr style=\"text-align: right;\">\n",
       "      <th></th>\n",
       "      <th>Carrier</th>\n",
       "      <th>Departure Time</th>\n",
       "      <th>Destination</th>\n",
       "      <th>Distance</th>\n",
       "      <th>Date</th>\n",
       "      <th>Flight Number</th>\n",
       "      <th>Origin</th>\n",
       "      <th>Day of the Week</th>\n",
       "      <th>Day of the Month</th>\n",
       "      <th>Delayed</th>\n",
       "    </tr>\n",
       "  </thead>\n",
       "  <tbody>\n",
       "    <tr>\n",
       "      <th>2194</th>\n",
       "      <td>RU</td>\n",
       "      <td>644</td>\n",
       "      <td>EWR</td>\n",
       "      <td>199</td>\n",
       "      <td>2004-01-31</td>\n",
       "      <td>2761</td>\n",
       "      <td>DCA</td>\n",
       "      <td>6</td>\n",
       "      <td>31</td>\n",
       "      <td>ontime</td>\n",
       "    </tr>\n",
       "    <tr>\n",
       "      <th>2195</th>\n",
       "      <td>RU</td>\n",
       "      <td>1653</td>\n",
       "      <td>EWR</td>\n",
       "      <td>213</td>\n",
       "      <td>2004-01-31</td>\n",
       "      <td>2497</td>\n",
       "      <td>IAD</td>\n",
       "      <td>6</td>\n",
       "      <td>31</td>\n",
       "      <td>ontime</td>\n",
       "    </tr>\n",
       "    <tr>\n",
       "      <th>2196</th>\n",
       "      <td>RU</td>\n",
       "      <td>1558</td>\n",
       "      <td>EWR</td>\n",
       "      <td>199</td>\n",
       "      <td>2004-01-31</td>\n",
       "      <td>2361</td>\n",
       "      <td>DCA</td>\n",
       "      <td>6</td>\n",
       "      <td>31</td>\n",
       "      <td>ontime</td>\n",
       "    </tr>\n",
       "    <tr>\n",
       "      <th>2197</th>\n",
       "      <td>RU</td>\n",
       "      <td>1403</td>\n",
       "      <td>EWR</td>\n",
       "      <td>199</td>\n",
       "      <td>2004-01-31</td>\n",
       "      <td>2216</td>\n",
       "      <td>DCA</td>\n",
       "      <td>6</td>\n",
       "      <td>31</td>\n",
       "      <td>ontime</td>\n",
       "    </tr>\n",
       "    <tr>\n",
       "      <th>2198</th>\n",
       "      <td>RU</td>\n",
       "      <td>1736</td>\n",
       "      <td>EWR</td>\n",
       "      <td>199</td>\n",
       "      <td>2004-01-31</td>\n",
       "      <td>2097</td>\n",
       "      <td>DCA</td>\n",
       "      <td>6</td>\n",
       "      <td>31</td>\n",
       "      <td>ontime</td>\n",
       "    </tr>\n",
       "  </tbody>\n",
       "</table>\n",
       "</div>"
      ],
      "text/plain": [
       "     Carrier  Departure Time Destination  Distance       Date  Flight Number  \\\n",
       "2194      RU             644         EWR       199 2004-01-31           2761   \n",
       "2195      RU            1653         EWR       213 2004-01-31           2497   \n",
       "2196      RU            1558         EWR       199 2004-01-31           2361   \n",
       "2197      RU            1403         EWR       199 2004-01-31           2216   \n",
       "2198      RU            1736         EWR       199 2004-01-31           2097   \n",
       "\n",
       "     Origin  Day of the Week  Day of the Month Delayed   \n",
       "2194    DCA                6                31   ontime  \n",
       "2195    IAD                6                31   ontime  \n",
       "2196    DCA                6                31   ontime  \n",
       "2197    DCA                6                31   ontime  \n",
       "2198    DCA                6                31   ontime  "
      ]
     },
     "execution_count": 4,
     "metadata": {},
     "output_type": "execute_result"
    }
   ],
   "source": [
    "df.tail()"
   ]
  },
  {
   "attachments": {},
   "cell_type": "markdown",
   "metadata": {},
   "source": [
    "#### Getting shape of the dataframe"
   ]
  },
  {
   "cell_type": "code",
   "execution_count": 5,
   "metadata": {},
   "outputs": [
    {
     "data": {
      "text/plain": [
       "(2199, 10)"
      ]
     },
     "execution_count": 5,
     "metadata": {},
     "output_type": "execute_result"
    }
   ],
   "source": [
    "df.shape"
   ]
  },
  {
   "attachments": {},
   "cell_type": "markdown",
   "metadata": {},
   "source": [
    "This dataset consist of `2199` rows and `10` columns.\n",
    "\n",
    "----"
   ]
  },
  {
   "attachments": {},
   "cell_type": "markdown",
   "metadata": {},
   "source": [
    "#### Getting column names"
   ]
  },
  {
   "cell_type": "code",
   "execution_count": 6,
   "metadata": {},
   "outputs": [
    {
     "data": {
      "text/plain": [
       "Index(['Carrier', 'Departure Time', 'Destination', 'Distance', 'Date',\n",
       "       'Flight Number', 'Origin', 'Day of the Week', 'Day of the Month',\n",
       "       'Delayed '],\n",
       "      dtype='object')"
      ]
     },
     "execution_count": 6,
     "metadata": {},
     "output_type": "execute_result"
    }
   ],
   "source": [
    "df.columns"
   ]
  },
  {
   "attachments": {},
   "cell_type": "markdown",
   "metadata": {},
   "source": [
    "----\n",
    "#### Checking for duplicated values"
   ]
  },
  {
   "cell_type": "code",
   "execution_count": 7,
   "metadata": {},
   "outputs": [
    {
     "data": {
      "text/plain": [
       "0"
      ]
     },
     "execution_count": 7,
     "metadata": {},
     "output_type": "execute_result"
    }
   ],
   "source": [
    "df.duplicated().sum()"
   ]
  },
  {
   "attachments": {},
   "cell_type": "markdown",
   "metadata": {},
   "source": [
    "There aren't any duplicated cells.\n",
    "\n",
    "----"
   ]
  },
  {
   "attachments": {},
   "cell_type": "markdown",
   "metadata": {},
   "source": [
    "#### Checking for null values"
   ]
  },
  {
   "cell_type": "code",
   "execution_count": 8,
   "metadata": {},
   "outputs": [
    {
     "data": {
      "text/plain": [
       "Carrier             0\n",
       "Departure Time      0\n",
       "Destination         0\n",
       "Distance            0\n",
       "Date                0\n",
       "Flight Number       0\n",
       "Origin              0\n",
       "Day of the Week     0\n",
       "Day of the Month    0\n",
       "Delayed             0\n",
       "dtype: int64"
      ]
     },
     "execution_count": 8,
     "metadata": {},
     "output_type": "execute_result"
    }
   ],
   "source": [
    "df.isna().sum()"
   ]
  },
  {
   "attachments": {},
   "cell_type": "markdown",
   "metadata": {},
   "source": [
    "Looks like there aren't any null values across the dataframe.\n",
    "\n",
    "-----"
   ]
  },
  {
   "attachments": {},
   "cell_type": "markdown",
   "metadata": {},
   "source": [
    "#### Getting overall info of each variable"
   ]
  },
  {
   "cell_type": "code",
   "execution_count": 9,
   "metadata": {},
   "outputs": [
    {
     "name": "stdout",
     "output_type": "stream",
     "text": [
      "<class 'pandas.core.frame.DataFrame'>\n",
      "RangeIndex: 2199 entries, 0 to 2198\n",
      "Data columns (total 10 columns):\n",
      " #   Column            Non-Null Count  Dtype         \n",
      "---  ------            --------------  -----         \n",
      " 0   Carrier           2199 non-null   object        \n",
      " 1   Departure Time    2199 non-null   int64         \n",
      " 2   Destination       2199 non-null   object        \n",
      " 3   Distance          2199 non-null   int64         \n",
      " 4   Date              2199 non-null   datetime64[ns]\n",
      " 5   Flight Number     2199 non-null   int64         \n",
      " 6   Origin            2199 non-null   object        \n",
      " 7   Day of the Week   2199 non-null   int64         \n",
      " 8   Day of the Month  2199 non-null   int64         \n",
      " 9   Delayed           2199 non-null   object        \n",
      "dtypes: datetime64[ns](1), int64(5), object(4)\n",
      "memory usage: 171.9+ KB\n"
     ]
    }
   ],
   "source": [
    "df.info()\n"
   ]
  },
  {
   "cell_type": "code",
   "execution_count": 10,
   "metadata": {},
   "outputs": [
    {
     "data": {
      "text/html": [
       "<div>\n",
       "<style scoped>\n",
       "    .dataframe tbody tr th:only-of-type {\n",
       "        vertical-align: middle;\n",
       "    }\n",
       "\n",
       "    .dataframe tbody tr th {\n",
       "        vertical-align: top;\n",
       "    }\n",
       "\n",
       "    .dataframe thead th {\n",
       "        text-align: right;\n",
       "    }\n",
       "</style>\n",
       "<table border=\"1\" class=\"dataframe\">\n",
       "  <thead>\n",
       "    <tr style=\"text-align: right;\">\n",
       "      <th></th>\n",
       "      <th>unique</th>\n",
       "      <th>null</th>\n",
       "      <th>dtype</th>\n",
       "    </tr>\n",
       "  </thead>\n",
       "  <tbody>\n",
       "    <tr>\n",
       "      <th>Carrier</th>\n",
       "      <td>8</td>\n",
       "      <td>0.0</td>\n",
       "      <td>object</td>\n",
       "    </tr>\n",
       "    <tr>\n",
       "      <th>Departure Time</th>\n",
       "      <td>631</td>\n",
       "      <td>0.0</td>\n",
       "      <td>int64</td>\n",
       "    </tr>\n",
       "    <tr>\n",
       "      <th>Destination</th>\n",
       "      <td>3</td>\n",
       "      <td>0.0</td>\n",
       "      <td>object</td>\n",
       "    </tr>\n",
       "    <tr>\n",
       "      <th>Distance</th>\n",
       "      <td>7</td>\n",
       "      <td>0.0</td>\n",
       "      <td>int64</td>\n",
       "    </tr>\n",
       "    <tr>\n",
       "      <th>Date</th>\n",
       "      <td>31</td>\n",
       "      <td>0.0</td>\n",
       "      <td>datetime64[ns]</td>\n",
       "    </tr>\n",
       "    <tr>\n",
       "      <th>Flight Number</th>\n",
       "      <td>103</td>\n",
       "      <td>0.0</td>\n",
       "      <td>int64</td>\n",
       "    </tr>\n",
       "    <tr>\n",
       "      <th>Origin</th>\n",
       "      <td>3</td>\n",
       "      <td>0.0</td>\n",
       "      <td>object</td>\n",
       "    </tr>\n",
       "    <tr>\n",
       "      <th>Day of the Week</th>\n",
       "      <td>7</td>\n",
       "      <td>0.0</td>\n",
       "      <td>int64</td>\n",
       "    </tr>\n",
       "    <tr>\n",
       "      <th>Day of the Month</th>\n",
       "      <td>31</td>\n",
       "      <td>0.0</td>\n",
       "      <td>int64</td>\n",
       "    </tr>\n",
       "    <tr>\n",
       "      <th>Delayed</th>\n",
       "      <td>2</td>\n",
       "      <td>0.0</td>\n",
       "      <td>object</td>\n",
       "    </tr>\n",
       "  </tbody>\n",
       "</table>\n",
       "</div>"
      ],
      "text/plain": [
       "                  unique  null           dtype\n",
       "Carrier                8   0.0          object\n",
       "Departure Time       631   0.0           int64\n",
       "Destination            3   0.0          object\n",
       "Distance               7   0.0           int64\n",
       "Date                  31   0.0  datetime64[ns]\n",
       "Flight Number        103   0.0           int64\n",
       "Origin                 3   0.0          object\n",
       "Day of the Week        7   0.0           int64\n",
       "Day of the Month      31   0.0           int64\n",
       "Delayed                2   0.0          object"
      ]
     },
     "execution_count": 10,
     "metadata": {},
     "output_type": "execute_result"
    }
   ],
   "source": [
    "pd.DataFrame({'unique':df.nunique(),\n",
    "              'null': df.isna().sum()/df.count(),\n",
    "              'dtype':df.dtypes})"
   ]
  },
  {
   "attachments": {},
   "cell_type": "markdown",
   "metadata": {},
   "source": [
    "----\n",
    "#### Statistical Description"
   ]
  },
  {
   "cell_type": "code",
   "execution_count": 11,
   "metadata": {},
   "outputs": [
    {
     "data": {
      "text/html": [
       "<div>\n",
       "<style scoped>\n",
       "    .dataframe tbody tr th:only-of-type {\n",
       "        vertical-align: middle;\n",
       "    }\n",
       "\n",
       "    .dataframe tbody tr th {\n",
       "        vertical-align: top;\n",
       "    }\n",
       "\n",
       "    .dataframe thead th {\n",
       "        text-align: right;\n",
       "    }\n",
       "</style>\n",
       "<table border=\"1\" class=\"dataframe\">\n",
       "  <thead>\n",
       "    <tr style=\"text-align: right;\">\n",
       "      <th></th>\n",
       "      <th>Departure Time</th>\n",
       "      <th>Distance</th>\n",
       "      <th>Flight Number</th>\n",
       "      <th>Day of the Week</th>\n",
       "      <th>Day of the Month</th>\n",
       "    </tr>\n",
       "  </thead>\n",
       "  <tbody>\n",
       "    <tr>\n",
       "      <th>count</th>\n",
       "      <td>2199.000000</td>\n",
       "      <td>2199.000000</td>\n",
       "      <td>2199.000000</td>\n",
       "      <td>2199.000000</td>\n",
       "      <td>2199.000000</td>\n",
       "    </tr>\n",
       "    <tr>\n",
       "      <th>mean</th>\n",
       "      <td>1370.490223</td>\n",
       "      <td>211.855844</td>\n",
       "      <td>3811.567531</td>\n",
       "      <td>3.906321</td>\n",
       "      <td>16.020464</td>\n",
       "    </tr>\n",
       "    <tr>\n",
       "      <th>std</th>\n",
       "      <td>440.893123</td>\n",
       "      <td>13.312840</td>\n",
       "      <td>2408.017328</td>\n",
       "      <td>1.902862</td>\n",
       "      <td>8.679829</td>\n",
       "    </tr>\n",
       "    <tr>\n",
       "      <th>min</th>\n",
       "      <td>548.000000</td>\n",
       "      <td>169.000000</td>\n",
       "      <td>746.000000</td>\n",
       "      <td>1.000000</td>\n",
       "      <td>1.000000</td>\n",
       "    </tr>\n",
       "    <tr>\n",
       "      <th>25%</th>\n",
       "      <td>1011.000000</td>\n",
       "      <td>213.000000</td>\n",
       "      <td>2156.000000</td>\n",
       "      <td>2.000000</td>\n",
       "      <td>8.000000</td>\n",
       "    </tr>\n",
       "    <tr>\n",
       "      <th>50%</th>\n",
       "      <td>1450.000000</td>\n",
       "      <td>214.000000</td>\n",
       "      <td>2385.000000</td>\n",
       "      <td>4.000000</td>\n",
       "      <td>16.000000</td>\n",
       "    </tr>\n",
       "    <tr>\n",
       "      <th>75%</th>\n",
       "      <td>1709.000000</td>\n",
       "      <td>214.000000</td>\n",
       "      <td>5935.000000</td>\n",
       "      <td>5.000000</td>\n",
       "      <td>23.000000</td>\n",
       "    </tr>\n",
       "    <tr>\n",
       "      <th>max</th>\n",
       "      <td>2330.000000</td>\n",
       "      <td>229.000000</td>\n",
       "      <td>7924.000000</td>\n",
       "      <td>7.000000</td>\n",
       "      <td>31.000000</td>\n",
       "    </tr>\n",
       "  </tbody>\n",
       "</table>\n",
       "</div>"
      ],
      "text/plain": [
       "       Departure Time     Distance  Flight Number  Day of the Week  \\\n",
       "count     2199.000000  2199.000000    2199.000000      2199.000000   \n",
       "mean      1370.490223   211.855844    3811.567531         3.906321   \n",
       "std        440.893123    13.312840    2408.017328         1.902862   \n",
       "min        548.000000   169.000000     746.000000         1.000000   \n",
       "25%       1011.000000   213.000000    2156.000000         2.000000   \n",
       "50%       1450.000000   214.000000    2385.000000         4.000000   \n",
       "75%       1709.000000   214.000000    5935.000000         5.000000   \n",
       "max       2330.000000   229.000000    7924.000000         7.000000   \n",
       "\n",
       "       Day of the Month  \n",
       "count       2199.000000  \n",
       "mean          16.020464  \n",
       "std            8.679829  \n",
       "min            1.000000  \n",
       "25%            8.000000  \n",
       "50%           16.000000  \n",
       "75%           23.000000  \n",
       "max           31.000000  "
      ]
     },
     "execution_count": 11,
     "metadata": {},
     "output_type": "execute_result"
    }
   ],
   "source": [
    "df.describe()"
   ]
  },
  {
   "attachments": {},
   "cell_type": "markdown",
   "metadata": {},
   "source": [
    "----\n",
    "#### Correaltion\n"
   ]
  },
  {
   "cell_type": "code",
   "execution_count": 12,
   "metadata": {},
   "outputs": [
    {
     "data": {
      "text/html": [
       "<div>\n",
       "<style scoped>\n",
       "    .dataframe tbody tr th:only-of-type {\n",
       "        vertical-align: middle;\n",
       "    }\n",
       "\n",
       "    .dataframe tbody tr th {\n",
       "        vertical-align: top;\n",
       "    }\n",
       "\n",
       "    .dataframe thead th {\n",
       "        text-align: right;\n",
       "    }\n",
       "</style>\n",
       "<table border=\"1\" class=\"dataframe\">\n",
       "  <thead>\n",
       "    <tr style=\"text-align: right;\">\n",
       "      <th></th>\n",
       "      <th>Departure Time</th>\n",
       "      <th>Distance</th>\n",
       "      <th>Flight Number</th>\n",
       "      <th>Day of the Week</th>\n",
       "      <th>Day of the Month</th>\n",
       "    </tr>\n",
       "  </thead>\n",
       "  <tbody>\n",
       "    <tr>\n",
       "      <th>Departure Time</th>\n",
       "      <td>1.000000</td>\n",
       "      <td>0.061436</td>\n",
       "      <td>0.110557</td>\n",
       "      <td>0.050713</td>\n",
       "      <td>0.001659</td>\n",
       "    </tr>\n",
       "    <tr>\n",
       "      <th>Distance</th>\n",
       "      <td>0.061436</td>\n",
       "      <td>1.000000</td>\n",
       "      <td>0.420868</td>\n",
       "      <td>-0.020397</td>\n",
       "      <td>0.009459</td>\n",
       "    </tr>\n",
       "    <tr>\n",
       "      <th>Flight Number</th>\n",
       "      <td>0.110557</td>\n",
       "      <td>0.420868</td>\n",
       "      <td>1.000000</td>\n",
       "      <td>0.019334</td>\n",
       "      <td>-0.010119</td>\n",
       "    </tr>\n",
       "    <tr>\n",
       "      <th>Day of the Week</th>\n",
       "      <td>0.050713</td>\n",
       "      <td>-0.020397</td>\n",
       "      <td>0.019334</td>\n",
       "      <td>1.000000</td>\n",
       "      <td>0.015955</td>\n",
       "    </tr>\n",
       "    <tr>\n",
       "      <th>Day of the Month</th>\n",
       "      <td>0.001659</td>\n",
       "      <td>0.009459</td>\n",
       "      <td>-0.010119</td>\n",
       "      <td>0.015955</td>\n",
       "      <td>1.000000</td>\n",
       "    </tr>\n",
       "  </tbody>\n",
       "</table>\n",
       "</div>"
      ],
      "text/plain": [
       "                  Departure Time  Distance  Flight Number  Day of the Week  \\\n",
       "Departure Time          1.000000  0.061436       0.110557         0.050713   \n",
       "Distance                0.061436  1.000000       0.420868        -0.020397   \n",
       "Flight Number           0.110557  0.420868       1.000000         0.019334   \n",
       "Day of the Week         0.050713 -0.020397       0.019334         1.000000   \n",
       "Day of the Month        0.001659  0.009459      -0.010119         0.015955   \n",
       "\n",
       "                  Day of the Month  \n",
       "Departure Time            0.001659  \n",
       "Distance                  0.009459  \n",
       "Flight Number            -0.010119  \n",
       "Day of the Week           0.015955  \n",
       "Day of the Month          1.000000  "
      ]
     },
     "execution_count": 12,
     "metadata": {},
     "output_type": "execute_result"
    }
   ],
   "source": [
    "correlation=df.corr()\n",
    "correlation"
   ]
  },
  {
   "cell_type": "code",
   "execution_count": 13,
   "metadata": {},
   "outputs": [
    {
     "data": {
      "image/png": "[encoded data removed]",
      "text/plain": [
       "<Figure size 640x480 with 2 Axes>"
      ]
     },
     "metadata": {},
     "output_type": "display_data"
    }
   ],
   "source": [
    "plt.title('Correlation heatmap')\n",
    "sns.heatmap(correlation,annot=True,cmap='inferno')\n",
    "plt.show()\n"
   ]
  },
  {
   "attachments": {},
   "cell_type": "markdown",
   "metadata": {},
   "source": [
    "----"
   ]
  },
  {
   "attachments": {},
   "cell_type": "markdown",
   "metadata": {},
   "source": [
    "Distribution of `Carrier` variable"
   ]
  },
  {
   "cell_type": "code",
   "execution_count": 15,
   "metadata": {},
   "outputs": [
    {
     "data": {
      "image/png": "[encoded data removed]",
      "text/plain": [
       "<Figure size 640x480 with 1 Axes>"
      ]
     },
     "metadata": {},
     "output_type": "display_data"
    }
   ],
   "source": [
    "carrier_count=df['Carrier'].value_counts()\n",
    "plt.title('CARRIER DISTRIBUTION')\n",
    "sns.histplot(data=df,x='Carrier',color='salmon')\n",
    "plt.show()"
   ]
  },
  {
   "attachments": {},
   "cell_type": "markdown",
   "metadata": {},
   "source": [
    "- `DH` is the most frequent carrier in this dataset.\n",
    "- `OH` and `UA` are the least frequented carriers in this dataset."
   ]
  },
  {
   "attachments": {},
   "cell_type": "markdown",
   "metadata": {},
   "source": [
    "Distribution of `Departure Time` and `Distance` variable"
   ]
  },
  {
   "cell_type": "code",
   "execution_count": 71,
   "metadata": {},
   "outputs": [
    {
     "data": {
      "image/png": "[encoded data removed]",
      "text/plain": [
       "<Figure size 1500x500 with 2 Axes>"
      ]
     },
     "metadata": {},
     "output_type": "display_data"
    }
   ],
   "source": [
    "#Setting figure size\n",
    "plt.figure(figsize=(15,5))\n",
    "\n",
    "#Departure time\n",
    "plt.subplot(1,2,1)\n",
    "plt.title('DEPARTURE TIME')\n",
    "sns.boxplot(data=df,x='Departure Time',color='mediumslateblue')\n",
    "\n",
    "#Distance\n",
    "plt.subplot(1,2,2)\n",
    "plt.title('DISTANCE')\n",
    "sns.boxplot(df['Distance'],color='rebeccapurple')\n",
    "\n",
    "plt.show()"
   ]
  },
  {
   "attachments": {},
   "cell_type": "markdown",
   "metadata": {},
   "source": [
    "Distribution of `Day of the Week` and `Day of the Month` variable"
   ]
  },
  {
   "cell_type": "code",
   "execution_count": 72,
   "metadata": {},
   "outputs": [
    {
     "data": {
      "image/png": "[encoded data removed]",
      "text/plain": [
       "<Figure size 1500x500 with 2 Axes>"
      ]
     },
     "metadata": {},
     "output_type": "display_data"
    }
   ],
   "source": [
    "#setting figure size\n",
    "plt.figure(figsize=(15,5))\n",
    "\n",
    "#Day of the week\n",
    "plt.subplot(1,2,1)\n",
    "plt.title('DAY OF THE WEEK')\n",
    "sns.histplot(data=df,x='Day of the Week',shrink=2,color='lightseagreen')\n",
    "\n",
    "#Day of the month\n",
    "plt.subplot(1,2,2)\n",
    "plt.title('DAY OF THE MONTH')\n",
    "sns.histplot(data=df,x='Day of the Month',color='aquamarine')\n",
    "\n",
    "plt.show()"
   ]
  },
  {
   "attachments": {},
   "cell_type": "markdown",
   "metadata": {},
   "source": [
    "Distribution of `Origin` and `Destination` variable"
   ]
  },
  {
   "cell_type": "code",
   "execution_count": 73,
   "metadata": {},
   "outputs": [
    {
     "data": {
      "image/png": "[encoded data removed]",
      "text/plain": [
       "<Figure size 1500x500 with 2 Axes>"
      ]
     },
     "metadata": {},
     "output_type": "display_data"
    }
   ],
   "source": [
    "#setting figure sizev\n",
    "plt.figure(figsize=(15,5))\n",
    "\n",
    "#Orgin\n",
    "plt.subplot(1,2,1)\n",
    "orgin_count=df['Origin'].value_counts()\n",
    "plt.title('ORGIN')\n",
    "color=sns.color_palette('Set2')\n",
    "plt.pie(x=orgin_count.values,labels=orgin_count.index,autopct='%.0f%%',colors=color)\n",
    "\n",
    "#Destination\n",
    "plt.subplot(1,2,2)\n",
    "destination_count=df['Destination'].value_counts()\n",
    "plt.title('DESTINATION')\n",
    "plt.pie(x=destination_count.values,labels=destination_count.index,autopct='%.0f%%')\n",
    "\n",
    "plt.show()"
   ]
  },
  {
   "attachments": {},
   "cell_type": "markdown",
   "metadata": {},
   "source": [
    "Distribution of `Delayed` variable"
   ]
  },
  {
   "cell_type": "code",
   "execution_count": 19,
   "metadata": {},
   "outputs": [
    {
     "data": {
      "image/png": "[encoded data removed]",
      "text/plain": [
       "<Figure size 640x480 with 1 Axes>"
      ]
     },
     "metadata": {},
     "output_type": "display_data"
    }
   ],
   "source": [
    "plt.title('DEALAYED')\n",
    "sns.histplot(data=df,x='Delayed ',color='hotpink')\n",
    "plt.show()"
   ]
  },
  {
   "attachments": {},
   "cell_type": "markdown",
   "metadata": {},
   "source": [
    "The \"ontime\" class is more frequent than the \"delayed\" class in this variable\n",
    "\n",
    "----"
   ]
  },
  {
   "attachments": {},
   "cell_type": "markdown",
   "metadata": {},
   "source": [
    "DELAY BASED ON CARRIER"
   ]
  },
  {
   "cell_type": "code",
   "execution_count": 20,
   "metadata": {},
   "outputs": [
    {
     "data": {
      "image/png": "[encoded data removed]",
      "text/plain": [
       "<Figure size 640x480 with 1 Axes>"
      ]
     },
     "metadata": {},
     "output_type": "display_data"
    }
   ],
   "source": [
    "sns.histplot(data=df,x='Delayed ',hue='Carrier', multiple=\"dodge\", shrink=.8)\n",
    "plt.show()"
   ]
  },
  {
   "attachments": {},
   "cell_type": "markdown",
   "metadata": {},
   "source": [
    "`DH (Atlantic Coast)` carrier had the most number of flights both on time and delayed.\n",
    "\n",
    "----"
   ]
  },
  {
   "attachments": {},
   "cell_type": "markdown",
   "metadata": {},
   "source": [
    "#### Delay based on Day of the week "
   ]
  },
  {
   "cell_type": "code",
   "execution_count": 22,
   "metadata": {},
   "outputs": [
    {
     "data": {
      "image/png": "[encoded data removed]",
      "text/plain": [
       "<Figure size 640x480 with 1 Axes>"
      ]
     },
     "metadata": {},
     "output_type": "display_data"
    }
   ],
   "source": [
    "sns.histplot(data=df,x='Delayed ',hue='Day of the Week', multiple=\"dodge\", shrink=.8,palette='Set3')\n",
    "plt.show()"
   ]
  },
  {
   "attachments": {},
   "cell_type": "markdown",
   "metadata": {},
   "source": [
    "- During `Friday` and `Thursday`, most of the flights were on time.\n",
    "- During `Monday`, most of the flights were delayed.\n",
    "\n",
    "---"
   ]
  },
  {
   "attachments": {},
   "cell_type": "markdown",
   "metadata": {},
   "source": [
    "#### Delay based on origin"
   ]
  },
  {
   "cell_type": "code",
   "execution_count": 78,
   "metadata": {},
   "outputs": [
    {
     "data": {
      "image/png": "[encoded data removed]",
      "text/plain": [
       "<Figure size 640x480 with 1 Axes>"
      ]
     },
     "metadata": {},
     "output_type": "display_data"
    }
   ],
   "source": [
    "sns.histplot(data=df,x='Delayed ',hue='Origin', multiple='dodge',shrink=.8,palette='Set2')\n",
    "plt.show()"
   ]
  },
  {
   "attachments": {},
   "cell_type": "markdown",
   "metadata": {},
   "source": [
    "- The flights having origin `BWI (Baltimore–Washington Int’l)` were mostly both on time and delayed followed by flights having origin `IAD (Dulles)` and `DCA (Reagan National)`.\n",
    "--- "
   ]
  },
  {
   "attachments": {},
   "cell_type": "markdown",
   "metadata": {},
   "source": [
    "#### Delay based on destination"
   ]
  },
  {
   "cell_type": "code",
   "execution_count": 76,
   "metadata": {},
   "outputs": [
    {
     "data": {
      "image/png": "[encoded data removed]",
      "text/plain": [
       "<Figure size 640x480 with 1 Axes>"
      ]
     },
     "metadata": {},
     "output_type": "display_data"
    }
   ],
   "source": [
    "sns.histplot(data=df,x='Delayed ',hue='Destination',multiple='dodge',shrink=.8,palette='Set1')\n",
    "plt.show()"
   ]
  },
  {
   "attachments": {},
   "cell_type": "markdown",
   "metadata": {},
   "source": [
    "- The flights having destination `LGA (LaGuardia)` were mostly both on time and delayed followed by flights having destination `EWR (Newark)` and ` JFK (Kennedy)`.\n",
    "\n",
    "----"
   ]
  },
  {
   "attachments": {},
   "cell_type": "markdown",
   "metadata": {},
   "source": [
    "----"
   ]
  },
  {
   "cell_type": "markdown",
   "metadata": {},
   "source": [
    "## Model Building"
   ]
  },
  {
   "attachments": {},
   "cell_type": "markdown",
   "metadata": {},
   "source": [
    "#### Feature Selection\n",
    ">Feature selection is important in ML as it reduces overfitting, improves model performance, enhances interpretability, and reduces computational complexity. It helps select only the most relevant features for predicting the target variable, leading to better accuracy and faster processing times.\n",
    "\n",
    "In this model, `five` features are selected:\n",
    " - Day of the Week\n",
    " - Departure Time\n",
    " - Origin\n",
    " - Destination\n",
    " - Carrier\n",
    "\n",
    "And `one` target variable is selected:\n",
    "- Delayed "
   ]
  },
  {
   "cell_type": "code",
   "execution_count": 31,
   "metadata": {},
   "outputs": [
    {
     "data": {
      "text/html": [
       "<div>\n",
       "<style scoped>\n",
       "    .dataframe tbody tr th:only-of-type {\n",
       "        vertical-align: middle;\n",
       "    }\n",
       "\n",
       "    .dataframe tbody tr th {\n",
       "        vertical-align: top;\n",
       "    }\n",
       "\n",
       "    .dataframe thead th {\n",
       "        text-align: right;\n",
       "    }\n",
       "</style>\n",
       "<table border=\"1\" class=\"dataframe\">\n",
       "  <thead>\n",
       "    <tr style=\"text-align: right;\">\n",
       "      <th></th>\n",
       "      <th>Day of the Week</th>\n",
       "      <th>Departure Time</th>\n",
       "      <th>Origin</th>\n",
       "      <th>Destination</th>\n",
       "      <th>Carrier</th>\n",
       "      <th>Delayed</th>\n",
       "    </tr>\n",
       "  </thead>\n",
       "  <tbody>\n",
       "    <tr>\n",
       "      <th>0</th>\n",
       "      <td>4</td>\n",
       "      <td>1455</td>\n",
       "      <td>BWI</td>\n",
       "      <td>JFK</td>\n",
       "      <td>OH</td>\n",
       "      <td>ontime</td>\n",
       "    </tr>\n",
       "    <tr>\n",
       "      <th>1</th>\n",
       "      <td>4</td>\n",
       "      <td>1640</td>\n",
       "      <td>DCA</td>\n",
       "      <td>JFK</td>\n",
       "      <td>DH</td>\n",
       "      <td>ontime</td>\n",
       "    </tr>\n",
       "    <tr>\n",
       "      <th>2</th>\n",
       "      <td>4</td>\n",
       "      <td>1245</td>\n",
       "      <td>IAD</td>\n",
       "      <td>LGA</td>\n",
       "      <td>DH</td>\n",
       "      <td>ontime</td>\n",
       "    </tr>\n",
       "    <tr>\n",
       "      <th>3</th>\n",
       "      <td>4</td>\n",
       "      <td>1709</td>\n",
       "      <td>IAD</td>\n",
       "      <td>LGA</td>\n",
       "      <td>DH</td>\n",
       "      <td>ontime</td>\n",
       "    </tr>\n",
       "    <tr>\n",
       "      <th>4</th>\n",
       "      <td>4</td>\n",
       "      <td>1035</td>\n",
       "      <td>IAD</td>\n",
       "      <td>LGA</td>\n",
       "      <td>DH</td>\n",
       "      <td>ontime</td>\n",
       "    </tr>\n",
       "    <tr>\n",
       "      <th>...</th>\n",
       "      <td>...</td>\n",
       "      <td>...</td>\n",
       "      <td>...</td>\n",
       "      <td>...</td>\n",
       "      <td>...</td>\n",
       "      <td>...</td>\n",
       "    </tr>\n",
       "    <tr>\n",
       "      <th>2194</th>\n",
       "      <td>6</td>\n",
       "      <td>644</td>\n",
       "      <td>DCA</td>\n",
       "      <td>EWR</td>\n",
       "      <td>RU</td>\n",
       "      <td>ontime</td>\n",
       "    </tr>\n",
       "    <tr>\n",
       "      <th>2195</th>\n",
       "      <td>6</td>\n",
       "      <td>1653</td>\n",
       "      <td>IAD</td>\n",
       "      <td>EWR</td>\n",
       "      <td>RU</td>\n",
       "      <td>ontime</td>\n",
       "    </tr>\n",
       "    <tr>\n",
       "      <th>2196</th>\n",
       "      <td>6</td>\n",
       "      <td>1558</td>\n",
       "      <td>DCA</td>\n",
       "      <td>EWR</td>\n",
       "      <td>RU</td>\n",
       "      <td>ontime</td>\n",
       "    </tr>\n",
       "    <tr>\n",
       "      <th>2197</th>\n",
       "      <td>6</td>\n",
       "      <td>1403</td>\n",
       "      <td>DCA</td>\n",
       "      <td>EWR</td>\n",
       "      <td>RU</td>\n",
       "      <td>ontime</td>\n",
       "    </tr>\n",
       "    <tr>\n",
       "      <th>2198</th>\n",
       "      <td>6</td>\n",
       "      <td>1736</td>\n",
       "      <td>DCA</td>\n",
       "      <td>EWR</td>\n",
       "      <td>RU</td>\n",
       "      <td>ontime</td>\n",
       "    </tr>\n",
       "  </tbody>\n",
       "</table>\n",
       "<p>2199 rows × 6 columns</p>\n",
       "</div>"
      ],
      "text/plain": [
       "      Day of the Week  Departure Time Origin Destination Carrier Delayed \n",
       "0                   4            1455    BWI         JFK      OH   ontime\n",
       "1                   4            1640    DCA         JFK      DH   ontime\n",
       "2                   4            1245    IAD         LGA      DH   ontime\n",
       "3                   4            1709    IAD         LGA      DH   ontime\n",
       "4                   4            1035    IAD         LGA      DH   ontime\n",
       "...               ...             ...    ...         ...     ...      ...\n",
       "2194                6             644    DCA         EWR      RU   ontime\n",
       "2195                6            1653    IAD         EWR      RU   ontime\n",
       "2196                6            1558    DCA         EWR      RU   ontime\n",
       "2197                6            1403    DCA         EWR      RU   ontime\n",
       "2198                6            1736    DCA         EWR      RU   ontime\n",
       "\n",
       "[2199 rows x 6 columns]"
      ]
     },
     "execution_count": 31,
     "metadata": {},
     "output_type": "execute_result"
    }
   ],
   "source": [
    "\n",
    "flight= df.loc[:,['Day of the Week','Departure Time','Origin','Destination','Carrier','Delayed ']]\n",
    "flight\n"
   ]
  },
  {
   "attachments": {},
   "cell_type": "markdown",
   "metadata": {},
   "source": [
    "----\n",
    "#### Data preprocessing"
   ]
  },
  {
   "attachments": {},
   "cell_type": "markdown",
   "metadata": {},
   "source": [
    "In `Departure Time`, the time is represented in **24 hour** format.\n",
    " - eg- 1455 represents **14 hour and 55 minutes** <br> \n",
    "\n",
    " Retaining only the hour and removing minutes from the `Departure Time`"
   ]
  },
  {
   "cell_type": "code",
   "execution_count": 32,
   "metadata": {},
   "outputs": [
    {
     "data": {
      "text/html": [
       "<div>\n",
       "<style scoped>\n",
       "    .dataframe tbody tr th:only-of-type {\n",
       "        vertical-align: middle;\n",
       "    }\n",
       "\n",
       "    .dataframe tbody tr th {\n",
       "        vertical-align: top;\n",
       "    }\n",
       "\n",
       "    .dataframe thead th {\n",
       "        text-align: right;\n",
       "    }\n",
       "</style>\n",
       "<table border=\"1\" class=\"dataframe\">\n",
       "  <thead>\n",
       "    <tr style=\"text-align: right;\">\n",
       "      <th></th>\n",
       "      <th>Day of the Week</th>\n",
       "      <th>Departure Time</th>\n",
       "      <th>Origin</th>\n",
       "      <th>Destination</th>\n",
       "      <th>Carrier</th>\n",
       "      <th>Delayed</th>\n",
       "    </tr>\n",
       "  </thead>\n",
       "  <tbody>\n",
       "    <tr>\n",
       "      <th>0</th>\n",
       "      <td>4</td>\n",
       "      <td>14</td>\n",
       "      <td>BWI</td>\n",
       "      <td>JFK</td>\n",
       "      <td>OH</td>\n",
       "      <td>ontime</td>\n",
       "    </tr>\n",
       "    <tr>\n",
       "      <th>1</th>\n",
       "      <td>4</td>\n",
       "      <td>16</td>\n",
       "      <td>DCA</td>\n",
       "      <td>JFK</td>\n",
       "      <td>DH</td>\n",
       "      <td>ontime</td>\n",
       "    </tr>\n",
       "    <tr>\n",
       "      <th>2</th>\n",
       "      <td>4</td>\n",
       "      <td>12</td>\n",
       "      <td>IAD</td>\n",
       "      <td>LGA</td>\n",
       "      <td>DH</td>\n",
       "      <td>ontime</td>\n",
       "    </tr>\n",
       "    <tr>\n",
       "      <th>3</th>\n",
       "      <td>4</td>\n",
       "      <td>17</td>\n",
       "      <td>IAD</td>\n",
       "      <td>LGA</td>\n",
       "      <td>DH</td>\n",
       "      <td>ontime</td>\n",
       "    </tr>\n",
       "    <tr>\n",
       "      <th>4</th>\n",
       "      <td>4</td>\n",
       "      <td>10</td>\n",
       "      <td>IAD</td>\n",
       "      <td>LGA</td>\n",
       "      <td>DH</td>\n",
       "      <td>ontime</td>\n",
       "    </tr>\n",
       "    <tr>\n",
       "      <th>...</th>\n",
       "      <td>...</td>\n",
       "      <td>...</td>\n",
       "      <td>...</td>\n",
       "      <td>...</td>\n",
       "      <td>...</td>\n",
       "      <td>...</td>\n",
       "    </tr>\n",
       "    <tr>\n",
       "      <th>2194</th>\n",
       "      <td>6</td>\n",
       "      <td>6</td>\n",
       "      <td>DCA</td>\n",
       "      <td>EWR</td>\n",
       "      <td>RU</td>\n",
       "      <td>ontime</td>\n",
       "    </tr>\n",
       "    <tr>\n",
       "      <th>2195</th>\n",
       "      <td>6</td>\n",
       "      <td>16</td>\n",
       "      <td>IAD</td>\n",
       "      <td>EWR</td>\n",
       "      <td>RU</td>\n",
       "      <td>ontime</td>\n",
       "    </tr>\n",
       "    <tr>\n",
       "      <th>2196</th>\n",
       "      <td>6</td>\n",
       "      <td>15</td>\n",
       "      <td>DCA</td>\n",
       "      <td>EWR</td>\n",
       "      <td>RU</td>\n",
       "      <td>ontime</td>\n",
       "    </tr>\n",
       "    <tr>\n",
       "      <th>2197</th>\n",
       "      <td>6</td>\n",
       "      <td>14</td>\n",
       "      <td>DCA</td>\n",
       "      <td>EWR</td>\n",
       "      <td>RU</td>\n",
       "      <td>ontime</td>\n",
       "    </tr>\n",
       "    <tr>\n",
       "      <th>2198</th>\n",
       "      <td>6</td>\n",
       "      <td>17</td>\n",
       "      <td>DCA</td>\n",
       "      <td>EWR</td>\n",
       "      <td>RU</td>\n",
       "      <td>ontime</td>\n",
       "    </tr>\n",
       "  </tbody>\n",
       "</table>\n",
       "<p>2199 rows × 6 columns</p>\n",
       "</div>"
      ],
      "text/plain": [
       "      Day of the Week  Departure Time Origin Destination Carrier Delayed \n",
       "0                   4              14    BWI         JFK      OH   ontime\n",
       "1                   4              16    DCA         JFK      DH   ontime\n",
       "2                   4              12    IAD         LGA      DH   ontime\n",
       "3                   4              17    IAD         LGA      DH   ontime\n",
       "4                   4              10    IAD         LGA      DH   ontime\n",
       "...               ...             ...    ...         ...     ...      ...\n",
       "2194                6               6    DCA         EWR      RU   ontime\n",
       "2195                6              16    IAD         EWR      RU   ontime\n",
       "2196                6              15    DCA         EWR      RU   ontime\n",
       "2197                6              14    DCA         EWR      RU   ontime\n",
       "2198                6              17    DCA         EWR      RU   ontime\n",
       "\n",
       "[2199 rows x 6 columns]"
      ]
     },
     "execution_count": 32,
     "metadata": {},
     "output_type": "execute_result"
    }
   ],
   "source": [
    "flight['Departure Time']=flight['Departure Time'].astype(str).str.zfill(4).str[:2] .astype(int)\n",
    "flight"
   ]
  },
  {
   "attachments": {},
   "cell_type": "markdown",
   "metadata": {},
   "source": [
    "----\n",
    "#### Encoding the categorical variables\n",
    "\n",
    ">Encoding categorical variables is important in machine learning because most algorithms require numeric input, and categorical variables can have a significant impact on the output of a model. The appropriate encoding technique needs to be chosen carefully to avoid biased or inaccurate results."
   ]
  },
  {
   "cell_type": "code",
   "execution_count": 33,
   "metadata": {},
   "outputs": [
    {
     "data": {
      "text/plain": [
       "array(['ontime', 'delayed'], dtype=object)"
      ]
     },
     "execution_count": 33,
     "metadata": {},
     "output_type": "execute_result"
    }
   ],
   "source": [
    "df['Delayed '].unique()"
   ]
  },
  {
   "attachments": {},
   "cell_type": "markdown",
   "metadata": {},
   "source": [
    "**Label encoding :**\n",
    "   > Label encoding is a technique for converting categorical data into numerical data. It assigns a unique numerical value to each category in the data, such that similar categories have similar values.\n",
    "\n",
    "The target column `Delayed` is encoded using **Label Encoder** as\n",
    "- delayed - 0\n",
    "- ontime - 1\n",
    "\n",
    "\n"
   ]
  },
  {
   "cell_type": "code",
   "execution_count": 34,
   "metadata": {},
   "outputs": [],
   "source": [
    "from sklearn.preprocessing import LabelEncoder\n",
    "lbl= LabelEncoder()\n",
    "flight.loc[:,'Delayed ']=lbl.fit_transform(flight['Delayed '])\n"
   ]
  },
  {
   "attachments": {},
   "cell_type": "markdown",
   "metadata": {},
   "source": [
    "---\n",
    "**Target Encoding :**\n",
    "\n",
    ">Target encoding replaces each category in a categorical variable with the average value of the target variable for that category.\n",
    "\n",
    "`Origin`, `Destination`, `Carrier` - These categorical variables are encoded using target encoding"
   ]
  },
  {
   "cell_type": "code",
   "execution_count": 35,
   "metadata": {},
   "outputs": [
    {
     "data": {
      "text/html": [
       "<div>\n",
       "<style scoped>\n",
       "    .dataframe tbody tr th:only-of-type {\n",
       "        vertical-align: middle;\n",
       "    }\n",
       "\n",
       "    .dataframe tbody tr th {\n",
       "        vertical-align: top;\n",
       "    }\n",
       "\n",
       "    .dataframe thead th {\n",
       "        text-align: right;\n",
       "    }\n",
       "</style>\n",
       "<table border=\"1\" class=\"dataframe\">\n",
       "  <thead>\n",
       "    <tr style=\"text-align: right;\">\n",
       "      <th></th>\n",
       "      <th>Day of the Week</th>\n",
       "      <th>Departure Time</th>\n",
       "      <th>Origin</th>\n",
       "      <th>Destination</th>\n",
       "      <th>Carrier</th>\n",
       "      <th>Delayed</th>\n",
       "    </tr>\n",
       "  </thead>\n",
       "  <tbody>\n",
       "    <tr>\n",
       "      <th>0</th>\n",
       "      <td>4</td>\n",
       "      <td>14</td>\n",
       "      <td>0.744828</td>\n",
       "      <td>0.782383</td>\n",
       "      <td>0.850425</td>\n",
       "      <td>1</td>\n",
       "    </tr>\n",
       "    <tr>\n",
       "      <th>1</th>\n",
       "      <td>4</td>\n",
       "      <td>16</td>\n",
       "      <td>0.838686</td>\n",
       "      <td>0.782383</td>\n",
       "      <td>0.754098</td>\n",
       "      <td>1</td>\n",
       "    </tr>\n",
       "    <tr>\n",
       "      <th>2</th>\n",
       "      <td>4</td>\n",
       "      <td>12</td>\n",
       "      <td>0.754386</td>\n",
       "      <td>0.842334</td>\n",
       "      <td>0.754098</td>\n",
       "      <td>1</td>\n",
       "    </tr>\n",
       "    <tr>\n",
       "      <th>3</th>\n",
       "      <td>4</td>\n",
       "      <td>17</td>\n",
       "      <td>0.754386</td>\n",
       "      <td>0.842334</td>\n",
       "      <td>0.754098</td>\n",
       "      <td>1</td>\n",
       "    </tr>\n",
       "    <tr>\n",
       "      <th>4</th>\n",
       "      <td>4</td>\n",
       "      <td>10</td>\n",
       "      <td>0.754386</td>\n",
       "      <td>0.842334</td>\n",
       "      <td>0.754098</td>\n",
       "      <td>1</td>\n",
       "    </tr>\n",
       "    <tr>\n",
       "      <th>...</th>\n",
       "      <td>...</td>\n",
       "      <td>...</td>\n",
       "      <td>...</td>\n",
       "      <td>...</td>\n",
       "      <td>...</td>\n",
       "      <td>...</td>\n",
       "    </tr>\n",
       "    <tr>\n",
       "      <th>2194</th>\n",
       "      <td>6</td>\n",
       "      <td>6</td>\n",
       "      <td>0.838686</td>\n",
       "      <td>0.757895</td>\n",
       "      <td>0.769608</td>\n",
       "      <td>1</td>\n",
       "    </tr>\n",
       "    <tr>\n",
       "      <th>2195</th>\n",
       "      <td>6</td>\n",
       "      <td>16</td>\n",
       "      <td>0.754386</td>\n",
       "      <td>0.757895</td>\n",
       "      <td>0.769608</td>\n",
       "      <td>1</td>\n",
       "    </tr>\n",
       "    <tr>\n",
       "      <th>2196</th>\n",
       "      <td>6</td>\n",
       "      <td>15</td>\n",
       "      <td>0.838686</td>\n",
       "      <td>0.757895</td>\n",
       "      <td>0.769608</td>\n",
       "      <td>1</td>\n",
       "    </tr>\n",
       "    <tr>\n",
       "      <th>2197</th>\n",
       "      <td>6</td>\n",
       "      <td>14</td>\n",
       "      <td>0.838686</td>\n",
       "      <td>0.757895</td>\n",
       "      <td>0.769608</td>\n",
       "      <td>1</td>\n",
       "    </tr>\n",
       "    <tr>\n",
       "      <th>2198</th>\n",
       "      <td>6</td>\n",
       "      <td>17</td>\n",
       "      <td>0.838686</td>\n",
       "      <td>0.757895</td>\n",
       "      <td>0.769608</td>\n",
       "      <td>1</td>\n",
       "    </tr>\n",
       "  </tbody>\n",
       "</table>\n",
       "<p>2199 rows × 6 columns</p>\n",
       "</div>"
      ],
      "text/plain": [
       "      Day of the Week  Departure Time    Origin  Destination   Carrier  \\\n",
       "0                   4              14  0.744828     0.782383  0.850425   \n",
       "1                   4              16  0.838686     0.782383  0.754098   \n",
       "2                   4              12  0.754386     0.842334  0.754098   \n",
       "3                   4              17  0.754386     0.842334  0.754098   \n",
       "4                   4              10  0.754386     0.842334  0.754098   \n",
       "...               ...             ...       ...          ...       ...   \n",
       "2194                6               6  0.838686     0.757895  0.769608   \n",
       "2195                6              16  0.754386     0.757895  0.769608   \n",
       "2196                6              15  0.838686     0.757895  0.769608   \n",
       "2197                6              14  0.838686     0.757895  0.769608   \n",
       "2198                6              17  0.838686     0.757895  0.769608   \n",
       "\n",
       "      Delayed   \n",
       "0            1  \n",
       "1            1  \n",
       "2            1  \n",
       "3            1  \n",
       "4            1  \n",
       "...        ...  \n",
       "2194         1  \n",
       "2195         1  \n",
       "2196         1  \n",
       "2197         1  \n",
       "2198         1  \n",
       "\n",
       "[2199 rows x 6 columns]"
      ]
     },
     "execution_count": 35,
     "metadata": {},
     "output_type": "execute_result"
    }
   ],
   "source": [
    "from category_encoders import TargetEncoder\n",
    "trgt= TargetEncoder()\n",
    "flight.loc[:,['Origin','Destination','Carrier']]=trgt.fit_transform(flight[['Origin','Destination','Carrier']],flight['Delayed '])\n",
    "flight"
   ]
  },
  {
   "attachments": {},
   "cell_type": "markdown",
   "metadata": {},
   "source": [
    "---\n",
    "Storing the features in `x` variable"
   ]
  },
  {
   "cell_type": "code",
   "execution_count": 36,
   "metadata": {},
   "outputs": [
    {
     "data": {
      "text/html": [
       "<div>\n",
       "<style scoped>\n",
       "    .dataframe tbody tr th:only-of-type {\n",
       "        vertical-align: middle;\n",
       "    }\n",
       "\n",
       "    .dataframe tbody tr th {\n",
       "        vertical-align: top;\n",
       "    }\n",
       "\n",
       "    .dataframe thead th {\n",
       "        text-align: right;\n",
       "    }\n",
       "</style>\n",
       "<table border=\"1\" class=\"dataframe\">\n",
       "  <thead>\n",
       "    <tr style=\"text-align: right;\">\n",
       "      <th></th>\n",
       "      <th>Day of the Week</th>\n",
       "      <th>Departure Time</th>\n",
       "      <th>Origin</th>\n",
       "      <th>Destination</th>\n",
       "      <th>Carrier</th>\n",
       "    </tr>\n",
       "  </thead>\n",
       "  <tbody>\n",
       "    <tr>\n",
       "      <th>0</th>\n",
       "      <td>4</td>\n",
       "      <td>14</td>\n",
       "      <td>0.744828</td>\n",
       "      <td>0.782383</td>\n",
       "      <td>0.850425</td>\n",
       "    </tr>\n",
       "    <tr>\n",
       "      <th>1</th>\n",
       "      <td>4</td>\n",
       "      <td>16</td>\n",
       "      <td>0.838686</td>\n",
       "      <td>0.782383</td>\n",
       "      <td>0.754098</td>\n",
       "    </tr>\n",
       "    <tr>\n",
       "      <th>2</th>\n",
       "      <td>4</td>\n",
       "      <td>12</td>\n",
       "      <td>0.754386</td>\n",
       "      <td>0.842334</td>\n",
       "      <td>0.754098</td>\n",
       "    </tr>\n",
       "    <tr>\n",
       "      <th>3</th>\n",
       "      <td>4</td>\n",
       "      <td>17</td>\n",
       "      <td>0.754386</td>\n",
       "      <td>0.842334</td>\n",
       "      <td>0.754098</td>\n",
       "    </tr>\n",
       "    <tr>\n",
       "      <th>4</th>\n",
       "      <td>4</td>\n",
       "      <td>10</td>\n",
       "      <td>0.754386</td>\n",
       "      <td>0.842334</td>\n",
       "      <td>0.754098</td>\n",
       "    </tr>\n",
       "    <tr>\n",
       "      <th>...</th>\n",
       "      <td>...</td>\n",
       "      <td>...</td>\n",
       "      <td>...</td>\n",
       "      <td>...</td>\n",
       "      <td>...</td>\n",
       "    </tr>\n",
       "    <tr>\n",
       "      <th>2194</th>\n",
       "      <td>6</td>\n",
       "      <td>6</td>\n",
       "      <td>0.838686</td>\n",
       "      <td>0.757895</td>\n",
       "      <td>0.769608</td>\n",
       "    </tr>\n",
       "    <tr>\n",
       "      <th>2195</th>\n",
       "      <td>6</td>\n",
       "      <td>16</td>\n",
       "      <td>0.754386</td>\n",
       "      <td>0.757895</td>\n",
       "      <td>0.769608</td>\n",
       "    </tr>\n",
       "    <tr>\n",
       "      <th>2196</th>\n",
       "      <td>6</td>\n",
       "      <td>15</td>\n",
       "      <td>0.838686</td>\n",
       "      <td>0.757895</td>\n",
       "      <td>0.769608</td>\n",
       "    </tr>\n",
       "    <tr>\n",
       "      <th>2197</th>\n",
       "      <td>6</td>\n",
       "      <td>14</td>\n",
       "      <td>0.838686</td>\n",
       "      <td>0.757895</td>\n",
       "      <td>0.769608</td>\n",
       "    </tr>\n",
       "    <tr>\n",
       "      <th>2198</th>\n",
       "      <td>6</td>\n",
       "      <td>17</td>\n",
       "      <td>0.838686</td>\n",
       "      <td>0.757895</td>\n",
       "      <td>0.769608</td>\n",
       "    </tr>\n",
       "  </tbody>\n",
       "</table>\n",
       "<p>2199 rows × 5 columns</p>\n",
       "</div>"
      ],
      "text/plain": [
       "      Day of the Week  Departure Time    Origin  Destination   Carrier\n",
       "0                   4              14  0.744828     0.782383  0.850425\n",
       "1                   4              16  0.838686     0.782383  0.754098\n",
       "2                   4              12  0.754386     0.842334  0.754098\n",
       "3                   4              17  0.754386     0.842334  0.754098\n",
       "4                   4              10  0.754386     0.842334  0.754098\n",
       "...               ...             ...       ...          ...       ...\n",
       "2194                6               6  0.838686     0.757895  0.769608\n",
       "2195                6              16  0.754386     0.757895  0.769608\n",
       "2196                6              15  0.838686     0.757895  0.769608\n",
       "2197                6              14  0.838686     0.757895  0.769608\n",
       "2198                6              17  0.838686     0.757895  0.769608\n",
       "\n",
       "[2199 rows x 5 columns]"
      ]
     },
     "execution_count": 36,
     "metadata": {},
     "output_type": "execute_result"
    }
   ],
   "source": [
    "x=flight.drop(columns='Delayed ')\n",
    "x"
   ]
  },
  {
   "cell_type": "code",
   "execution_count": 37,
   "metadata": {},
   "outputs": [
    {
     "data": {
      "text/html": [
       "<div>\n",
       "<style scoped>\n",
       "    .dataframe tbody tr th:only-of-type {\n",
       "        vertical-align: middle;\n",
       "    }\n",
       "\n",
       "    .dataframe tbody tr th {\n",
       "        vertical-align: top;\n",
       "    }\n",
       "\n",
       "    .dataframe thead th {\n",
       "        text-align: right;\n",
       "    }\n",
       "</style>\n",
       "<table border=\"1\" class=\"dataframe\">\n",
       "  <thead>\n",
       "    <tr style=\"text-align: right;\">\n",
       "      <th></th>\n",
       "      <th>Day of the Week</th>\n",
       "      <th>Departure Time</th>\n",
       "      <th>Origin</th>\n",
       "      <th>Destination</th>\n",
       "      <th>Carrier</th>\n",
       "    </tr>\n",
       "  </thead>\n",
       "  <tbody>\n",
       "    <tr>\n",
       "      <th>count</th>\n",
       "      <td>2199.000000</td>\n",
       "      <td>2199.000000</td>\n",
       "      <td>2199.000000</td>\n",
       "      <td>2199.000000</td>\n",
       "      <td>2199.000000</td>\n",
       "    </tr>\n",
       "    <tr>\n",
       "      <th>mean</th>\n",
       "      <td>3.906321</td>\n",
       "      <td>13.329695</td>\n",
       "      <td>0.806276</td>\n",
       "      <td>0.806276</td>\n",
       "      <td>0.805942</td>\n",
       "    </tr>\n",
       "    <tr>\n",
       "      <th>std</th>\n",
       "      <td>1.902862</td>\n",
       "      <td>4.446117</td>\n",
       "      <td>0.041734</td>\n",
       "      <td>0.038569</td>\n",
       "      <td>0.071423</td>\n",
       "    </tr>\n",
       "    <tr>\n",
       "      <th>min</th>\n",
       "      <td>1.000000</td>\n",
       "      <td>5.000000</td>\n",
       "      <td>0.744828</td>\n",
       "      <td>0.757895</td>\n",
       "      <td>0.723455</td>\n",
       "    </tr>\n",
       "    <tr>\n",
       "      <th>25%</th>\n",
       "      <td>2.000000</td>\n",
       "      <td>10.000000</td>\n",
       "      <td>0.754386</td>\n",
       "      <td>0.757895</td>\n",
       "      <td>0.754098</td>\n",
       "    </tr>\n",
       "    <tr>\n",
       "      <th>50%</th>\n",
       "      <td>4.000000</td>\n",
       "      <td>14.000000</td>\n",
       "      <td>0.838686</td>\n",
       "      <td>0.842334</td>\n",
       "      <td>0.769608</td>\n",
       "    </tr>\n",
       "    <tr>\n",
       "      <th>75%</th>\n",
       "      <td>5.000000</td>\n",
       "      <td>17.000000</td>\n",
       "      <td>0.838686</td>\n",
       "      <td>0.842334</td>\n",
       "      <td>0.878866</td>\n",
       "    </tr>\n",
       "    <tr>\n",
       "      <th>max</th>\n",
       "      <td>7.000000</td>\n",
       "      <td>23.000000</td>\n",
       "      <td>0.838686</td>\n",
       "      <td>0.842334</td>\n",
       "      <td>0.913366</td>\n",
       "    </tr>\n",
       "  </tbody>\n",
       "</table>\n",
       "</div>"
      ],
      "text/plain": [
       "       Day of the Week  Departure Time       Origin  Destination      Carrier\n",
       "count      2199.000000     2199.000000  2199.000000  2199.000000  2199.000000\n",
       "mean          3.906321       13.329695     0.806276     0.806276     0.805942\n",
       "std           1.902862        4.446117     0.041734     0.038569     0.071423\n",
       "min           1.000000        5.000000     0.744828     0.757895     0.723455\n",
       "25%           2.000000       10.000000     0.754386     0.757895     0.754098\n",
       "50%           4.000000       14.000000     0.838686     0.842334     0.769608\n",
       "75%           5.000000       17.000000     0.838686     0.842334     0.878866\n",
       "max           7.000000       23.000000     0.838686     0.842334     0.913366"
      ]
     },
     "execution_count": 37,
     "metadata": {},
     "output_type": "execute_result"
    }
   ],
   "source": [
    "x.describe()"
   ]
  },
  {
   "cell_type": "code",
   "execution_count": 38,
   "metadata": {},
   "outputs": [
    {
     "data": {
      "text/plain": [
       "Index(['Day of the Week', 'Departure Time', 'Origin', 'Destination',\n",
       "       'Carrier'],\n",
       "      dtype='object')"
      ]
     },
     "execution_count": 38,
     "metadata": {},
     "output_type": "execute_result"
    }
   ],
   "source": [
    "x.columns"
   ]
  },
  {
   "cell_type": "code",
   "execution_count": 39,
   "metadata": {},
   "outputs": [
    {
     "data": {
      "text/plain": [
       "Day of the Week    0\n",
       "Departure Time     0\n",
       "Origin             0\n",
       "Destination        0\n",
       "Carrier            0\n",
       "dtype: int64"
      ]
     },
     "execution_count": 39,
     "metadata": {},
     "output_type": "execute_result"
    }
   ],
   "source": [
    "x.isna().sum()"
   ]
  },
  {
   "attachments": {},
   "cell_type": "markdown",
   "metadata": {},
   "source": [
    "Storing target variable in `y` variable."
   ]
  },
  {
   "cell_type": "code",
   "execution_count": 40,
   "metadata": {},
   "outputs": [
    {
     "data": {
      "text/plain": [
       "0       1\n",
       "1       1\n",
       "2       1\n",
       "3       1\n",
       "4       1\n",
       "       ..\n",
       "2194    1\n",
       "2195    1\n",
       "2196    1\n",
       "2197    1\n",
       "2198    1\n",
       "Name: Delayed , Length: 2199, dtype: int32"
      ]
     },
     "execution_count": 40,
     "metadata": {},
     "output_type": "execute_result"
    }
   ],
   "source": [
    "y=flight['Delayed ']\n",
    "y"
   ]
  },
  {
   "attachments": {},
   "cell_type": "markdown",
   "metadata": {},
   "source": [
    "----\n",
    "#### Split data into train and test set\n",
    "\n",
    "- Training data - `2100` rows\n",
    "- Testing data - `99` rows"
   ]
  },
  {
   "cell_type": "code",
   "execution_count": 62,
   "metadata": {},
   "outputs": [],
   "source": [
    "from sklearn.model_selection import train_test_split\n",
    "x_train,x_test,y_train,y_test=train_test_split(x,y,test_size=99)"
   ]
  },
  {
   "cell_type": "code",
   "execution_count": 42,
   "metadata": {},
   "outputs": [
    {
     "name": "stdout",
     "output_type": "stream",
     "text": [
      "2100\n",
      "99\n"
     ]
    }
   ],
   "source": [
    "print(len(x_train))\n",
    "print(len(x_test))"
   ]
  },
  {
   "attachments": {},
   "cell_type": "markdown",
   "metadata": {},
   "source": [
    "---\n",
    "### Training Model\n",
    "\n",
    "**Naive Bayes :**  \n",
    "- Naive Bayes is a machine learning algorithm used for classification tasks. It is based on Bayes' theorem and assumes that features are independent of each other. \n",
    "$$ P(a|b) = (P(b|a) * P(a)) / P(b) $$\n",
    "\n",
    "      -  P(a|b) is the posterior probability of a given b\n",
    "      -  P(b|a) is the conditional probability of b given a\n",
    "      -  P(a) is the prior probability of a\n",
    "      -  P(b) is the marginal probability of b.\n",
    "\n",
    "- There are three types of Naive Bayes classifiers:\n",
    "    - Gaussian Naive Bayes : used for continuous data\n",
    "    - Multinomial Naive Bayes : used for discrete data\n",
    "    - Bernaulli Naive Bayes : used for binary data  \n",
    "  <br>   \n",
    "- Since the data is continuous, **GaussianNB** is used here."
   ]
  },
  {
   "attachments": {},
   "cell_type": "markdown",
   "metadata": {},
   "source": [
    "Training the model with training data."
   ]
  },
  {
   "cell_type": "code",
   "execution_count": 63,
   "metadata": {},
   "outputs": [
    {
     "data": {
      "text/html": [
       "<style>#sk-container-id-2 {color: black;background-color: white;}#sk-container-id-2 pre{padding: 0;}#sk-container-id-2 div.sk-toggleable {background-color: white;}#sk-container-id-2 label.sk-toggleable__label {cursor: pointer;display: block;width: 100%;margin-bottom: 0;padding: 0.3em;box-sizing: border-box;text-align: center;}#sk-container-id-2 label.sk-toggleable__label-arrow:before {content: \"▸\";float: left;margin-right: 0.25em;color: #696969;}#sk-container-id-2 label.sk-toggleable__label-arrow:hover:before {color: black;}#sk-container-id-2 div.sk-estimator:hover label.sk-toggleable__label-arrow:before {color: black;}#sk-container-id-2 div.sk-toggleable__content {max-height: 0;max-width: 0;overflow: hidden;text-align: left;background-color: #f0f8ff;}#sk-container-id-2 div.sk-toggleable__content pre {margin: 0.2em;color: black;border-radius: 0.25em;background-color: #f0f8ff;}#sk-container-id-2 input.sk-toggleable__control:checked~div.sk-toggleable__content {max-height: 200px;max-width: 100%;overflow: auto;}#sk-container-id-2 input.sk-toggleable__control:checked~label.sk-toggleable__label-arrow:before {content: \"▾\";}#sk-container-id-2 div.sk-estimator input.sk-toggleable__control:checked~label.sk-toggleable__label {background-color: #d4ebff;}#sk-container-id-2 div.sk-label input.sk-toggleable__control:checked~label.sk-toggleable__label {background-color: #d4ebff;}#sk-container-id-2 input.sk-hidden--visually {border: 0;clip: rect(1px 1px 1px 1px);clip: rect(1px, 1px, 1px, 1px);height: 1px;margin: -1px;overflow: hidden;padding: 0;position: absolute;width: 1px;}#sk-container-id-2 div.sk-estimator {font-family: monospace;background-color: #f0f8ff;border: 1px dotted black;border-radius: 0.25em;box-sizing: border-box;margin-bottom: 0.5em;}#sk-container-id-2 div.sk-estimator:hover {background-color: #d4ebff;}#sk-container-id-2 div.sk-parallel-item::after {content: \"\";width: 100%;border-bottom: 1px solid gray;flex-grow: 1;}#sk-container-id-2 div.sk-label:hover label.sk-toggleable__label {background-color: #d4ebff;}#sk-container-id-2 div.sk-serial::before {content: \"\";position: absolute;border-left: 1px solid gray;box-sizing: border-box;top: 0;bottom: 0;left: 50%;z-index: 0;}#sk-container-id-2 div.sk-serial {display: flex;flex-direction: column;align-items: center;background-color: white;padding-right: 0.2em;padding-left: 0.2em;position: relative;}#sk-container-id-2 div.sk-item {position: relative;z-index: 1;}#sk-container-id-2 div.sk-parallel {display: flex;align-items: stretch;justify-content: center;background-color: white;position: relative;}#sk-container-id-2 div.sk-item::before, #sk-container-id-2 div.sk-parallel-item::before {content: \"\";position: absolute;border-left: 1px solid gray;box-sizing: border-box;top: 0;bottom: 0;left: 50%;z-index: -1;}#sk-container-id-2 div.sk-parallel-item {display: flex;flex-direction: column;z-index: 1;position: relative;background-color: white;}#sk-container-id-2 div.sk-parallel-item:first-child::after {align-self: flex-end;width: 50%;}#sk-container-id-2 div.sk-parallel-item:last-child::after {align-self: flex-start;width: 50%;}#sk-container-id-2 div.sk-parallel-item:only-child::after {width: 0;}#sk-container-id-2 div.sk-dashed-wrapped {border: 1px dashed gray;margin: 0 0.4em 0.5em 0.4em;box-sizing: border-box;padding-bottom: 0.4em;background-color: white;}#sk-container-id-2 div.sk-label label {font-family: monospace;font-weight: bold;display: inline-block;line-height: 1.2em;}#sk-container-id-2 div.sk-label-container {text-align: center;}#sk-container-id-2 div.sk-container {/* jupyter's `normalize.less` sets `[hidden] { display: none; }` but bootstrap.min.css set `[hidden] { display: none !important; }` so we also need the `!important` here to be able to override the default hidden behavior on the sphinx rendered scikit-learn.org. See: https://github.com/scikit-learn/scikit-learn/issues/21755 */display: inline-block !important;position: relative;}#sk-container-id-2 div.sk-text-repr-fallback {display: none;}</style><div id=\"sk-container-id-2\" class=\"sk-top-container\"><div class=\"sk-text-repr-fallback\"><pre>GaussianNB()</pre><b>In a Jupyter environment, please rerun this cell to show the HTML representation or trust the notebook. <br />On GitHub, the HTML representation is unable to render, please try loading this page with nbviewer.org.</b></div><div class=\"sk-container\" hidden><div class=\"sk-item\"><div class=\"sk-estimator sk-toggleable\"><input class=\"sk-toggleable__control sk-hidden--visually\" id=\"sk-estimator-id-2\" type=\"checkbox\" checked><label for=\"sk-estimator-id-2\" class=\"sk-toggleable__label sk-toggleable__label-arrow\">GaussianNB</label><div class=\"sk-toggleable__content\"><pre>GaussianNB()</pre></div></div></div></div></div>"
      ],
      "text/plain": [
       "GaussianNB()"
      ]
     },
     "execution_count": 63,
     "metadata": {},
     "output_type": "execute_result"
    }
   ],
   "source": [
    "gnb = GaussianNB()\n",
    "gnb.fit(x_train,y_train)"
   ]
  },
  {
   "attachments": {},
   "cell_type": "markdown",
   "metadata": {},
   "source": [
    "Predicting the result using trained model"
   ]
  },
  {
   "cell_type": "code",
   "execution_count": 64,
   "metadata": {},
   "outputs": [
    {
     "data": {
      "text/plain": [
       "array([1, 1, 1, 1, 1, 1, 1, 1, 0, 1])"
      ]
     },
     "execution_count": 64,
     "metadata": {},
     "output_type": "execute_result"
    }
   ],
   "source": [
    "y_predict=gnb.predict(x_test)\n",
    "y_predict[:10]"
   ]
  },
  {
   "cell_type": "code",
   "execution_count": 65,
   "metadata": {},
   "outputs": [
    {
     "data": {
      "text/plain": [
       "949     1\n",
       "1153    0\n",
       "885     0\n",
       "310     1\n",
       "1013    1\n",
       "148     1\n",
       "214     1\n",
       "1001    1\n",
       "1442    1\n",
       "55      1\n",
       "Name: Delayed , dtype: int32"
      ]
     },
     "execution_count": 65,
     "metadata": {},
     "output_type": "execute_result"
    }
   ],
   "source": [
    "y_actual = y_test\n",
    "y_actual[:10]"
   ]
  },
  {
   "attachments": {},
   "cell_type": "markdown",
   "metadata": {},
   "source": [
    "Accuracy score of the trained model"
   ]
  },
  {
   "cell_type": "code",
   "execution_count": 66,
   "metadata": {},
   "outputs": [
    {
     "data": {
      "text/plain": [
       "0.7878787878787878"
      ]
     },
     "execution_count": 66,
     "metadata": {},
     "output_type": "execute_result"
    }
   ],
   "source": [
    "from sklearn.metrics import accuracy_score\n",
    "accuracy_score(y_test,y_predict)"
   ]
  },
  {
   "attachments": {},
   "cell_type": "markdown",
   "metadata": {},
   "source": [
    "Confusion matrix"
   ]
  },
  {
   "cell_type": "code",
   "execution_count": 69,
   "metadata": {},
   "outputs": [
    {
     "data": {
      "text/plain": [
       "array([[ 2, 19],\n",
       "       [ 2, 76]], dtype=int64)"
      ]
     },
     "execution_count": 69,
     "metadata": {},
     "output_type": "execute_result"
    }
   ],
   "source": [
    "from sklearn.metrics import confusion_matrix\n",
    "cm=confusion_matrix(y_actual,y_predict)\n",
    "cm"
   ]
  },
  {
   "cell_type": "code",
   "execution_count": 68,
   "metadata": {},
   "outputs": [
    {
     "data": {
      "image/png": "[encoded data removed]",
      "text/plain": [
       "<Figure size 640x480 with 2 Axes>"
      ]
     },
     "metadata": {},
     "output_type": "display_data"
    }
   ],
   "source": [
    "sns.heatmap(cm, annot=True,cmap='viridis')\n",
    "plt.xlabel('Predicted labels')\n",
    "plt.ylabel('True labels')\n",
    "plt.show()"
   ]
  },
  {
   "attachments": {},
   "cell_type": "markdown",
   "metadata": {},
   "source": [
    "----"
   ]
  }
 ],
 "metadata": {
  "kernelspec": {
   "display_name": "base",
   "language": "python",
   "name": "python3"
  },
  "language_info": {
   "codemirror_mode": {
    "name": "ipython",
    "version": 3
   },
   "file_extension": ".py",
   "mimetype": "text/x-python",
   "name": "python",
   "nbconvert_exporter": "python",
   "pygments_lexer": "ipython3",
   "version": "3.9.15"
  },
  "orig_nbformat": 4,
  "vscode": {
   "interpreter": {
    "hash": "c95be5be5ce4f665ea8150410cab273f96bf53dea87635cb260e9a4d2a7d5564"
   }
  }
 },
 "nbformat": 4,
 "nbformat_minor": 2
}
